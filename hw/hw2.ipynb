{
 "cells": [
  {
   "cell_type": "code",
   "execution_count": 2,
   "metadata": {},
   "outputs": [
    {
     "name": "stdout",
     "output_type": "stream",
     "text": [
      "Выберете пользователя изсписка и введите его ник\n",
      "['elmiram', 'maryszmary', 'lizaku', 'nevmenandr', 'ancatmara', 'roctbb', 'akutuzov', 'agricolamz', 'lehkost', 'kylepjohnson', 'mikekestemont', 'demidovakatya', 'shwars', 'JelteF', 'timgraham', 'arogozhnikov', 'jasny', 'bcongdon', 'whyisjake', 'gvanrossum']\n",
      "lizaku\n",
      "Репозиторий                                      Описание                                          \n",
      "frame-parsing                          Semantic role labeling for Russian\n",
      "dsm_genres                          Visualizer for genres based on neural network language models\n",
      "seq2seq                           Kursovaya      \n",
      "Programming-and-computer-instruments                          Репоззиторий для курса \"Программирование и компьютерные инструменты лингвистических исследований\" в 2016-2017 уч. году.\n",
      "seq2seq_chatbot                          Sequence-to-Sequence chatbot using tensorflow\n",
      "CL_spellchecker                          The spellchecker project for the CL course\n",
      "varia                                            \n",
      "realec-exercises                          Automatic creation of exercises for REALEC\n",
      "Geo_entities                          Extracting geo entities\n",
      "synonyms                          Для НУГа про синонимы\n",
      "realec-search                          Search for the REALEC corpus\n",
      "verbal-aspect                          Working files for my thesis\n",
      "disamb_RNC                          Disambiguation for Russian\n",
      "programming_hw                          repo for hosting my homework assignments on programming, first semester of 2015-2016\n",
      "opinion2015                          Mail.Ru project on Opinion Mining in news\n",
      "MorphoAnn                          Morphological annotation for REALEC\n",
      "alignment                          Repository for storing the project \"Automatic alignment of dictionaries for closely related languages\"\n"
     ]
    }
   ],
   "source": [
    "import requests\n",
    "import re\n",
    "test = \"elmiram, maryszmary, lizaku, nevmenandr, ancatmara, roctbb, akutuzov, agricolamz, \" \\\n",
    "       \"lehkost, kylepjohnson, mikekestemont, demidovakatya, shwars, JelteF, timgraham, \" \\\n",
    "       \"arogozhnikov, jasny, bcongdon, whyisjake, gvanrossum\"\n",
    "users = test.split(', ')\n",
    "\n",
    "\n",
    "def choose_your_fighter(users):\n",
    "    print('Выберете пользователя изсписка и введите его ник')\n",
    "    print(users)\n",
    "    user = input()\n",
    "    while user not in users:\n",
    "        print('нет, вы ник пользователья введите, а не вот это вот всё')\n",
    "        user = input()\n",
    "    return user\n",
    "\n",
    "nice_print = {}\n",
    "\n",
    "def repositories(user):\n",
    "    where = 'https://github.com/' + user + '?tab=repositories'\n",
    "    plain_page = requests.get(where)\n",
    "#   print(plain_page.text)\n",
    "    chunk = re.findall('<div\\sclass=\"d-inline-block\\smb-1\">.*<div\\sclass=\"f6\\stext-gray\\smt-2\">', plain_page.text, re.DOTALL)\n",
    "    together = ''.join(chunk)\n",
    "    smaller_chunks = together.split('mt-2\">')\n",
    "\n",
    "    for i in range(0, len(smaller_chunks) - 1):\n",
    "        repos = re.findall('<a\\shref=\"/.*/(.*)\"\\si', smaller_chunks[i])\n",
    "        #print(repos)\n",
    "        descriptions = re.findall('description\">\\n([A-Za-z]*.*)\\n', smaller_chunks[i])\n",
    "        descriptions = re.sub('\\s{2,}', '', ''.join(descriptions))\n",
    "        d = {(''.join(repos)): (''.join(descriptions))}\n",
    "        #print(d)\n",
    "        nice_print.update(d)\n",
    "    print(\"{:<48} {:<50}\".format('Репозиторий', 'Описание'))\n",
    "    for k, v in nice_print.items():\n",
    "        reps = v\n",
    "        print(\"{:<8}                          {:<15}\".format(k, reps))\n",
    "\n",
    "\n",
    "\n",
    "def main(users):\n",
    "    user = choose_your_fighter(users)\n",
    "    repositories(user)\n",
    "\n",
    "    return users\n",
    "\n",
    "\n",
    "if __name__ == '__main__':\n",
    "    main(users)"
   ]
  },
  {
   "cell_type": "code",
   "execution_count": null,
   "metadata": {},
   "outputs": [],
   "source": []
  }
 ],
 "metadata": {
  "kernelspec": {
   "display_name": "Python 3",
   "language": "python",
   "name": "python3"
  },
  "language_info": {
   "codemirror_mode": {
    "name": "ipython",
    "version": 3
   },
   "file_extension": ".py",
   "mimetype": "text/x-python",
   "name": "python",
   "nbconvert_exporter": "python",
   "pygments_lexer": "ipython3",
   "version": "3.6.3"
  }
 },
 "nbformat": 4,
 "nbformat_minor": 2
}
